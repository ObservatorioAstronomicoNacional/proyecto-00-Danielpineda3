{
  "nbformat": 4,
  "nbformat_minor": 0,
  "metadata": {
    "colab": {
      "provenance": []
    },
    "kernelspec": {
      "name": "python3",
      "display_name": "Python 3"
    },
    "language_info": {
      "name": "python"
    }
  },
  "cells": [
    {
      "cell_type": "code",
      "source": [
        "import numpy as np\n",
        "from astropy import constants as const\n",
        "from astropy.time import Time\n",
        "import astropy.units as u\n",
        "from numpy import sin, cos, tan, sqrt, arctan, pi\n",
        "import matplotlib.pyplot as plt"
      ],
      "metadata": {
        "id": "rqzb_1283vBZ"
      },
      "execution_count": 1,
      "outputs": []
    },
    {
      "cell_type": "code",
      "execution_count": 19,
      "metadata": {
        "colab": {
          "base_uri": "https://localhost:8080/"
        },
        "id": "bX9_3wF73tSN",
        "outputId": "a537ebe3-938f-406a-cd07-ee325438aae7"
      },
      "outputs": [
        {
          "output_type": "stream",
          "name": "stdout",
          "text": [
            "r = 9658.326350394309 km, phi = 185.59638082331438 deg\n"
          ]
        }
      ],
      "source": [
        "#Punto 1 y 2\n",
        "\n",
        "\n",
        "# Constantes\n",
        "G=const.G\n",
        "G=G.to(u.km**3/(u.s**2*u.kg))\n",
        "M=const.M_earth\n",
        "GM = G*M\n",
        "e = 0.1656  # Excentricidad\n",
        "w = (15 * u.deg).to(u.rad)  # Argumento del perihelio (en radianes)\n",
        "a = (1.30262 * const.R_earth).to(u.km)  # Semieje mayor\n",
        "# Tiempo tp\n",
        "tp = Time('2025-03-31T00:00:00', scale='utc', format='isot')\n",
        "\n",
        "# Ecuación de Kepler\n",
        "def keplereq(E, l, e):\n",
        "    return E - e * np.sin(E*u.rad) - l.value\n",
        "\n",
        "def derivada_kepler(E, e):\n",
        "    return 1 - e * np.cos(E*u.rad)\n",
        "\n",
        "def metodo_newton(e, l, tolerancia=1e-6,iteraciones=100):\n",
        "    \"\"\"Resuelve la ecuación de Kepler usando el método de Newton-Raphson.\"\"\"\n",
        "    E = 0 #E0\n",
        "\n",
        "    for iteracion in range(iteraciones):\n",
        "        f_E = keplereq(E, l, e)  # Función de Kepler\n",
        "        f_prime_E = derivada_kepler(E, e)  # Derivada de la función\n",
        "\n",
        "        E_new = E - f_E / f_prime_E  # Nueva aproximación\n",
        "\n",
        "        # Verificar convergencia\n",
        "        if abs(E_new - E) < tolerancia:\n",
        "            return E_new\n",
        "\n",
        "        E = E_new\n",
        "\n",
        "    # Si no se alcanza la convergencia, devolver el último valor\n",
        "    print(\"No se alcanzó la convergencia.\")\n",
        "    return E\n",
        "\n",
        "# Función para calcular r y phi\n",
        "def position(ti):\n",
        "    ti = Time(ti, scale='utc', format='isot')\n",
        "    t = (ti - tp).to(u.s)  # Tiempo transcurrido en segundos\n",
        "    l = np.sqrt(GM / a**3) * t  # Anomalía media en radianes\n",
        "\n",
        "    # Resolver ecuación de Kepler\n",
        "    E_sol = metodo_newton(e, l)*u.rad\n",
        "\n",
        "    # Calcular f\n",
        "    f = 2 * arctan(sqrt((1 + e) / (1 - e)) * tan(E_sol / 2))\n",
        "\n",
        "    # Calcular distancia r y ángulo phi\n",
        "    r = a * (1 - e * cos(E_sol))\n",
        "    phi = f + w\n",
        "\n",
        "    return r.to(u.km), phi.to(u.deg)\n",
        "\n",
        "\n",
        "#Tiempo donde se quiere conocer r y phi:\n",
        "t= Time('2025-04-01T00:00:00', scale='utc', format='isot')\n",
        "\n",
        "r, phi = position(t)\n",
        "\n",
        "print(f\"r = {r}, phi = {phi}\")"
      ]
    },
    {
      "cell_type": "code",
      "source": [
        "#Punto 3\n",
        "\n",
        "\n",
        "def orbit():\n",
        "    # Definir el tiempo de inicio y fin\n",
        "    periodo = 2 * np.pi * np.sqrt(a**3 / GM)\n",
        "    tiempo_inicial = Time('2025-03-31T00:00:00', scale='utc', format='isot')  # Tiempo de inicio\n",
        "    tiempo_final = tiempo_inicial + periodo  # Tiempo de fin\n",
        "\n",
        "    # Convertir los tiempos a segundos para calcular el número de pasos\n",
        "    pasos_de_tiempo = 100  # Paso de tiempo en segundos\n",
        "\n",
        "    # Calcular el número total de pasos en segundos\n",
        "    numero_de_pasos = int((tiempo_final - tiempo_inicial).to(u.s).value / pasos_de_tiempo)\n",
        "\n",
        "    # Inicializar arrays de NumPy con el tamaño adecuado\n",
        "    rval = np.zeros(numero_de_pasos + 1)  # Creamos un array de ceros de tamaño numero_de_pasos + 1\n",
        "    phival = np.zeros(numero_de_pasos + 1)\n",
        "\n",
        "    # Iterar sobre el rango de tiempos usando un bucle for\n",
        "    tiempo_actual = tiempo_inicial\n",
        "    for i in range(numero_de_pasos + 1):  # +1 para incluir el último tiempo\n",
        "        r, phi = position(tiempo_actual)\n",
        "\n",
        "        # Asignar los valores de r y phi al array\n",
        "        rval[i] = r.value\n",
        "        phival[i] = phi.value\n",
        "\n",
        "        # Incrementar el tiempo en un paso (en segundos)\n",
        "        tiempo_actual += pasos_de_tiempo * u.s\n",
        "\n",
        "    # Crear la gráfica\n",
        "    plt.scatter(0,0)\n",
        "    plt.text(0, 0, 'Tierra', fontsize=12, ha='left', va='bottom', color='blue')\n",
        "    plt.scatter(rval * np.cos(phival * u.deg.to(u.rad)), rval * np.sin(phival * u.deg.to(u.rad)))\n",
        "    plt.xlabel(\"x (km)\")\n",
        "    plt.ylabel(\"y (km)\")\n",
        "    plt.title(\"Órbita del satélite\")\n",
        "\n",
        "    # Resaltar la posición inicial\n",
        "    plt.scatter(rval[0] * np.cos(phival[0] * u.deg.to(u.rad)),\n",
        "                rval[0] * np.sin(phival[0] * u.deg.to(u.rad)),)\n",
        "    plt.text(rval[0] * np.cos(phival[0] * u.deg.to(u.rad)),\n",
        "                rval[0] * np.sin(phival[0] * u.deg.to(u.rad)), 'Pericentro', fontsize=12, ha='left', va='bottom', color='green')\n",
        "    plt.gca().set_aspect('equal')\n",
        "    plt.show()\n",
        "orbit()"
      ],
      "metadata": {
        "colab": {
          "base_uri": "https://localhost:8080/",
          "height": 472
        },
        "id": "-2SbbkwV5_nr",
        "outputId": "ca2fd285-cead-4b3a-ff20-da169e06ce53"
      },
      "execution_count": 24,
      "outputs": [
        {
          "output_type": "display_data",
          "data": {
            "text/plain": [
              "<Figure size 640x480 with 1 Axes>"
            ],
            "image/png": "[encoded data removed]"
          },
          "metadata": {}
        }
      ]
    },
    {
      "cell_type": "code",
      "source": [
        "# Punto 4\n",
        "\n",
        "def date(r0):\n",
        "    # Verificar que r0 esté dentro del rango orbital\n",
        "    r_min = r0 - 1.28342948e-6 * u.km\n",
        "    r_max = r0 + 1.28342948e-6 * u.km\n",
        "\n",
        "    if not (r_min <= r0 <= r_max):\n",
        "        print(\"El valor de r0 no está dentro del rango de la órbita.\")\n",
        "        return None\n",
        "\n",
        "    # Calcular f a partir de la ecuación de la órbita\n",
        "    p = a * (1 - e**2)\n",
        "    cos_f = ((p / r0) - 1) / e\n",
        "\n",
        "    # Validar dominio del coseno\n",
        "    if abs(cos_f) > 1:\n",
        "        print(\"No hay solución real para f con este valor de r0.\")\n",
        "        return None\n",
        "\n",
        "    # Tomar solo la primera ocurrencia de f (por convención, la positiva)\n",
        "    f = np.arccos(cos_f.value)\n",
        "\n",
        "    # Calcular E (anomalía excéntrica) a partir de f\n",
        "    E = 2 * np.arctan(np.sqrt((1 - e) / (1 + e)) * np.tan(f / 2))\n",
        "    if E < 0:\n",
        "        E += 2 * np.pi  # Asegura E positivo\n",
        "\n",
        "    # Calcular anomalía media l\n",
        "    l = E - e * np.sin(E)  # E sin unidades\n",
        "\n",
        "    # Calcular tiempo\n",
        "    n = np.sqrt(GM / a**3).to(1 / u.s)\n",
        "    delta_t = (l / n.value) * u.s\n",
        "    t0 = tp + delta_t\n",
        "\n",
        "    return t0\n",
        "\n",
        "\n",
        "r0 = 1.5 * (const.R_earth).to(u.km)\n",
        "t0 = date(r0)\n",
        "\n",
        "if t0 is not None:\n",
        "    print(f\"Tiempo en el que el satelite está en r0= {t0.isot}\")\n"
      ],
      "metadata": {
        "id": "tGeASVsd7X3t",
        "colab": {
          "base_uri": "https://localhost:8080/"
        },
        "outputId": "b432dd08-1286-4f30-e416-456812e452d3"
      },
      "execution_count": null,
      "outputs": [
        {
          "output_type": "stream",
          "name": "stdout",
          "text": [
            "Tiempo en el que el satelite está en r0= 2025-03-31T00:53:09.855\n"
          ]
        }
      ]
    },
    {
      "cell_type": "code",
      "source": [],
      "metadata": {
        "id": "VLR5c1Zi8Ucr"
      },
      "execution_count": null,
      "outputs": []
    }
  ]
}